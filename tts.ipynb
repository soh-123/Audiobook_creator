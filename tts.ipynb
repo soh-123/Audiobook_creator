{
 "cells": [
  {
   "cell_type": "code",
   "execution_count": null,
   "metadata": {},
   "outputs": [],
   "source": [
    "# the scipy version packaged with colab is not tolerant of misformated WAV files.\n",
    "# install the latest version.\n",
    "!pip3 install -U scipy\n",
    "\n",
    "!git clone https://github.com/jnordberg/tortoise-tts.git\n",
    "%cd tortoise-tts\n",
    "!pip3 install -r requirements.txt\n",
    "!pip3 install transformers==4.19.0 einops==0.5.0 rotary_embedding_torch==0.1.5 unidecode==1.3.5\n",
    "!python3 setup.py install"
   ]
  },
  {
   "cell_type": "code",
   "execution_count": null,
   "metadata": {},
   "outputs": [],
   "source": [
    "# Imports used through the rest of the notebook.\n",
    "import torch\n",
    "import torchaudio\n",
    "import torch.nn as nn\n",
    "import torch.nn.functional as F\n",
    "\n",
    "import IPython\n",
    "\n",
    "from tortoise.api import TextToSpeech\n",
    "from tortoise.utils.audio import load_audio, load_voice, load_voices\n",
    "\n",
    "# This will download all the models used by Tortoise from the HuggingFace hub.\n",
    "tts = TextToSpeech()"
   ]
  },
  {
   "cell_type": "markdown",
   "metadata": {},
   "source": [
    "### 1. Upload your audio sample"
   ]
  },
  {
   "cell_type": "code",
   "execution_count": null,
   "metadata": {},
   "outputs": [],
   "source": [
    "# Optionally, upload use your own voice by running the next two cells. I recommend\n",
    "# you upload at least 2 audio clips. They must be a WAV file, 6-10 seconds long.\n",
    "CUSTOM_VOICE_NAME = \"martin\"\n",
    "\n",
    "import os\n",
    "from google.colab import files\n",
    "\n",
    "custom_voice_folder = f\"tortoise/voices/{CUSTOM_VOICE_NAME}\"\n",
    "os.makedirs(custom_voice_folder)\n",
    "for i, file_data in enumerate(files.upload().values()):\n",
    "  with open(os.path.join(custom_voice_folder, f'{i}.wav'), 'wb') as f:\n",
    "    f.write(file_data)"
   ]
  },
  {
   "cell_type": "markdown",
   "metadata": {},
   "source": [
    "### 2. Read txt from pdf"
   ]
  },
  {
   "cell_type": "code",
   "execution_count": null,
   "metadata": {},
   "outputs": [],
   "source": [
    "import PyPDF2\n",
    "\n",
    "def extract_text_from_pdf(pdf_path, output_txt_path):\n",
    "    # Open the PDF file\n",
    "    with open(pdf_path, \"rb\") as file:\n",
    "        pdf_reader = PyPDF2.PdfReader(file)\n",
    "        \n",
    "        # Create a text file for output\n",
    "        with open(output_txt_path, \"w\") as output_file:\n",
    "            # Extract text from each page and write it to the text file\n",
    "            for page_num in range(14, 400):\n",
    "                page = pdf_reader.pages[page_num]\n",
    "                text = page.extract_text()\n",
    "                if text:\n",
    "                    text = text.replace('\\t', ' ').replace('\\n', ' ').replace('  ', ' ')\n",
    "                    output_file.write(text + \"\\n\")\n",
    "                else:\n",
    "                    print(f\"No text found on page {page_num + 1}\")\n",
    "\n",
    "pdf_path = \"antifragile.pdf\"  # Path to your PDF file\n",
    "output_txt_path = \"antfragile.txt\"  # Path for the output text file\n",
    "extract_text_from_pdf(pdf_path, output_txt_path)"
   ]
  },
  {
   "cell_type": "markdown",
   "metadata": {},
   "source": [
    "### 3. Generate speech from a text file"
   ]
  },
  {
   "cell_type": "code",
   "execution_count": null,
   "metadata": {},
   "outputs": [],
   "source": [
    "from tortoise.utils.text import split_and_recombine_text\n",
    "from time import time\n",
    "import os\n",
    "\n",
    "outpath = \"results/longform/\"\n",
    "\n",
    "textfile_path = \"../speech.txt\"\n",
    "\n",
    "# Process text\n",
    "with open(textfile_path, 'r', encoding='utf-8') as f:\n",
    "    text = ' '.join([l for l in f.readlines()])\n",
    "    if '|' in text:\n",
    "        print(\"Found the '|' character in your text, which I will use as a cue for where to split it up. If this was not\"\n",
    "              \"your intent, please remove all '|' characters from the input.\")\n",
    "        texts = text.split('|')\n",
    "    else:\n",
    "        texts = split_and_recombine_text(text)\n",
    "\n",
    "seed = int(time())\n",
    "\n",
    "voice_outpath = os.path.join(outpath, CUSTOM_VOICE_NAME)\n",
    "os.makedirs(voice_outpath, exist_ok=True)\n",
    "\n",
    "voice_samples, conditioning_latents = load_voice(CUSTOM_VOICE_NAME)\n",
    "\n",
    "all_parts = []\n",
    "for j, text in enumerate(texts):\n",
    "    gen = tts.tts_with_preset(text, voice_samples=voice_samples, conditioning_latents=conditioning_latents,\n",
    "                              preset=\"fast\", k=1, use_deterministic_seed=seed)\n",
    "    gen = gen.squeeze(0).cpu()\n",
    "    torchaudio.save(os.path.join(voice_outpath, f'{j}.wav'), gen, 24000)\n",
    "    all_parts.append(gen)\n",
    "\n",
    "full_audio = torch.cat(all_parts, dim=-1)\n",
    "torchaudio.save(os.path.join(voice_outpath, 'combined.wav'), full_audio, 24000)\n",
    "IPython.display.Audio(os.path.join(voice_outpath, 'combined.wav'))"
   ]
  }
 ],
 "metadata": {
  "language_info": {
   "name": "python"
  }
 },
 "nbformat": 4,
 "nbformat_minor": 2
}
